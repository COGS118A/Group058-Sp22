{
 "cells": [
  {
   "cell_type": "markdown",
   "metadata": {},
   "source": [
    "# COGS 118A- Project Checkpoint"
   ]
  },
  {
   "cell_type": "markdown",
   "metadata": {},
   "source": [
    "# Names\n",
    "\n",
    "- Alexander Huynh\n",
    "- Yimin Lu\n",
    "- Jenny Vu\n",
    "- Dong Pham"
   ]
  },
  {
   "cell_type": "markdown",
   "metadata": {},
   "source": [
    "# Abstract \n",
    "This section should be short and clearly stated. It should be a single paragraph <200 words.  It should summarize: \n",
    "- what your goal/problem is\n",
    "- what the data used represents and how they are measured\n",
    "- what you will be doing with the data\n",
    "- how performance/success will be measured\n",
    "\n",
    "The goal for this project is to come up with and image classification model for road signs to aid computer vision style of self driving or computer vision aided driving. We will be using a data set from Kaggle that will have road signs from Germany with about 180 class labels that will be used as a training set. The trainng set will have about 100K images and testing will have about 50K images. We will implement 4 models and will compare them by using cross validation techniques that was taught in class. The four models will be Spectral Cluster, SVM, Residual Neural Network, and Ensemble of CNNs. We want our model to classify different road signs and will select the model with the best accuracy on a testing set. Accuracy testing will be done by comparing the meta data file that was given."
   ]
  },
  {
   "cell_type": "markdown",
   "metadata": {},
   "source": [
    "# Background\n",
    "\n",
    "   Traffic sign classification is an important feature of the self-driving car control pipeline. First the image taken from the camera mounted on the self-driving car requires traffic sign detection, since there may be multiple or no signs within the picture, and state-of-the-art object detection deep neural networks are deployed for this task such as Faster R-CNN, R-FCN, SSD, and YOLO V2.</a>[<sup>[1]</sup>](#arcosnote)\n",
    "\n",
    "   After object detection has found and cropped out street signs from the original image from the self-driving car's camera, the cropped street sign images now require traffic sign classification to understand whether or not each street sign seen is a stop sign, a yield sign, etc. Which is very important information the self-driving car needs in order to obey traffic rules and keep its passengers safe.</a>[<sup>[2]</sup>](#kakarlanote) The state-of-the-art networks that process this task are Resnet V1 50, Resnet V1 101, Inception V2, Inception Resnet V2, Mobilenet V1, and Darknet-19.</a>[<sup>[1]</sup>](#arcosnote)\n",
    "   \n",
    "   The state-of-the art models mostly use Residual Networks (ResNets), which are a type of Convolutional Neural Network (CNN) that has adds \\\"identity shortcut connections\\\" in order to overcome the vanishing gradient problem which occurs when a network has too many layers.</a>[<sup>[3]</sup>](#kakarlanote)"
   ]
  },
  {
   "cell_type": "markdown",
   "metadata": {},
   "source": [
    "# Problem Statement\n",
    "\n",
    "Self driving cars are the future of transportation in car centric nations. One of the main problems of self driving cars is dectection and recognition of road signs. There are many shapes and objects that people need to discern when driving and it should not be different for computer vision type of self driving. Computer vision style driving allows self driving cars to know what is around the environment. Roadsigns warns the driver the rules of the road and helps keep the road safe for driving. We see lots of things when we are driving and we need to be able to discern the noise from the road signs. How these road signs are perceived are impacted by things such as the weather(e.g. fog, snow) and the lighting of the area. It is important for an self driving models to discern roadsigns despite the environment so they can follow the rules of the road."
   ]
  },
  {
   "cell_type": "markdown",
   "metadata": {},
   "source": [
    "# Data\n",
    "\n",
    "UPDATED FROM PROPOSAL!\n",
    "\n",
    "You should have obtained and cleaned (if necessary) data you will use for this project.\n",
    "\n",
    "Please give the following information for each dataset you are using\n",
    "- https://www.kaggle.com/datasets/daniildeltsov/traffic-signs-gtsrb-plus-162-custom-classes,
    "- description of the size of the dataset (# of variables, # of observations)\n",
    "- what an observation consists of\n",
    "- what some critical variables are, how they are represented\n",
    "- any special handling, transformations, cleaning, etc you have done should be demonstrated here!\n"
   ]
  },
  {
   "cell_type": "code",
   "execution_count": null,
   "metadata": {},
   "outputs": [],
   "source": [
    "images = []\n",
    "labels = []\n",
    "for i in range(classes):\n",
    "    path = os.path.join(current_path, 'Data_images', 'train', str(i))\n",
    "    img_folder = os.listdir(path)\n",
    "    for j in img_folder:\n",
    "       try:\n",
    "           image = cv.imread(str(path+'/'+j))\n",
    "           image = cv.resize(image, (32, 32))\n",
    "           image = np.array(image)\n",
    "           images.append(image)\n",
    "           label = np.zeros(classes)\n",
    "           label[i] = 1.0\n",
    "           labels.append(label)\n",
    "       except:\n",
    "           pass\n",
    "   "
   ]
  },
  {
   "cell_type": "code",
   "execution_count": null,
   "metadata": {},
   "outputs": [],
   "source": [
    "images = np.array(images)\n",
    "images = images / 255\n",
    "labels = np.array(labels)"
   ]
  },
  {
   "cell_type": "code",
   "execution_count": null,
   "metadata": {},
   "outputs": [],
   "source": [
    "X = images.astype(np.float32)\n",
    "y = labels.astype(np.float32)"
   ]
  },
  {
   "cell_type": "markdown",
   "metadata": {},
   "source": [
    "We need to convert the data into numpy arrays and floats inorder to be showable on a py plot "
   ]
  },
  {
   "cell_type": "code",
   "execution_count": null,
   "metadata": {},
   "outputs": [
    {
     "data": {
      "text/plain": [
       "<matplotlib.image.AxesImage at 0x2b2bf46a6a0>"
      ]
     },
     "metadata": {},
     "output_type": "display_data"
    },
    {
     "data": {
      "image/png": "iVBORw0KGgoAAAANSUhEUgAAAPsAAAD5CAYAAADhukOtAAAAOXRFWHRTb2Z0d2FyZQBNYXRwbG90bGliIHZlcnNpb24zLjUuMiwgaHR0cHM6Ly9tYXRwbG90bGliLm9yZy8qNh9FAAAACXBIWXMAAAsTAAALEwEAmpwYAAAd10lEQVR4nO2dW4xc15We/3VOXfrOJpu35kWiRFFWZI8ketqMHRuOPcYMFGMA2cDAsB8MPRjDQTAGYmDyIDhA7AB58ASxDT85oCNhNIHjS8Y2LAyMxI5iQJnBjGxK0YUiPRIlUrzfu9n3upyz8lBFoCXsf3eT7K6mvf9PEFi9V+1z9tm1V52q/dday9wdQojffbL1HoAQojfI2YVIBDm7EIkgZxciEeTsQiSCnF2IRKjcTmczexTAtwDkAP6ru38t9vw8zz2vVMPHuoXzO7hsmGU572j8Pc4i/bKcjLJo0T7tdsHHEZE9Y4JolvOXrVofIKfi4/CyTW1lwfu1W/y6jb2ixl/p2BqIdIvOlZflTfe6VTE6y2LrittKMkYvIyMha6coCpRlGZwtu1Wd3cxyAK8D+EMAZwD8GsDn3P0o61Or9/n2HbvI8SLnQtgBy6JB+9QHRqgtq4UdAgBqwxuobWAw/EbVnr5M+0xNXqO2dos7Uul8QvqGN1Lbrvt+P9i+2LhO+7Tm+fjnZ2epbfLCeWrLyIdGs8gbVYW/0UZMKCJLuLG4EGz3yBt0GXsjiKzTvn6+ruqD/dQ2Px8eY3uRr++SrJ3Jq1fRarWCo7ydj/EHABx397fcvQng+wAeu43jCSHWkNtx9p0ATi/5+0y3TQhxB3Jb39lXgpkdBHAQAPLId00hxNpyO3f2swB2L/l7V7ftHbj7IXefcPeJLI988RJCrCm34+y/BrDPzO4xsxqAzwJ4ZnWGJYRYbW75c7W7t83siwD+FzrS21Pu/lqsj8FhZKczJrsw1SLL67TPwGBkx31gE7UVxqQaoDET3tGeuTZF+7QiO+4e2dqt1AepbcuWe/gxy/CcVCt8PrJ+rlyUzneR6yP82moWlvMyi8ilziXAPONLtYhIVNVK2NZqRZZ+RJrNKtzWP8DnuE0lQMDDShm8iMiUxj4lR9YUtawAd/8ZgJ/dzjGEEL1Bv6ATIhHk7EIkgpxdiESQswuRCHJ2IRKhpz9pc/AopCyPRAwRKSSvhwNTAKBS5wEtlbyP2hZnL1Jbc24y3N7kQRXu/LpqfVxeGxnh8mB/jUtUfVk4OGWhwce4uMiDdSoYprZt4/zX0WUZvu7G7Azv0+QBOWURkeUqNWqr18LjL4pw8AkAeMQtmu1FaisjkYVFLFqHmGIRmB6JRmTozi5EIsjZhUgEObsQiSBnFyIR5OxCJELPA8xZ7EcsORZLE1SJBEc0G3MRG98RnpvmO9NFJJURI6/yYJ2hgVFqG44F8lQiwTpEMWg15vm5+rZTW44hamsZn4+FMjz/rRafX0R23ItWk9osFggzQBQPfio0FvlcLTT5Lv5wjas8RTMyfnLdGSLBM+w2HYko051diESQswuRCHJ2IRJBzi5EIsjZhUgEObsQidBb6c2BksgksYowOZHe2k2un7QbXOKJVQNpReQfVtLIIoEYQ/082CX2VjvX5tVAKgUPAKoOhCvubBrkMs5QmwfdnLgYlvIAYGQLD5JpltPB9naLV5jJIjnXms1I9Ryajw2oVsPXfX2aj2N+kQe7DGwYpbZWxl+X+QU+j2UjLMtVq/x47Vuol6Y7uxCJIGcXIhHk7EIkgpxdiESQswuRCHJ2IRLhtqQ3MzsJYAZAAaDt7hPxDkBGNTauJTC5ziPlgoo2jzJCJFdYHpE0SlKHanDDFtonq3N5qiQlkgAgH+QRVLMZL8k0PBIuDVWvb6R9Th05Tm0XrvAxVup8jO0sHO3XN8DnanaKy1MwLkP113n5KifrrZ1HymH18fkdiOQGLFtcLi08UvaKlJSq1CI5FllJtGyNyj91+bi7X1mF4wgh1hB9jBciEW7X2R3Az83sBTM7uBoDEkKsDbf7Mf4j7n7WzLYC+IWZ/cbdn1v6hO6bwEEAyHP+s0YhxNpyW3d2dz/b/fcSgJ8AOBB4ziF3n3D3iUzOLsS6ccvObmaDZjZ84zGAPwJwZLUGJoRYXW7nY/w2AD+xjrRRAfDf3f1/LteJKW+ZcWnCyXtStDwOuLxmkUR+sSo9ZTVcUmrjjj20z3zJp3hgw1Zqy0peCun6DI/YGiPCSGuWS5EnznDJq93mc3z5Gpfl7tl7f7DdIwksvRqOlAOAosFtVvIoxqw/LLFtGglHB3aIRCq2zlDT7AJPRrlhhJcjq7NbbuRWXK2GX5dL5/jrdcvO7u5vAXj4VvsLIXqLpDchEkHOLkQiyNmFSAQ5uxCJIGcXIhF6XuuNvb84KwIHwDIilTmXXCJKHh0DAKDCpYvt9+wJdxni0V+DNR71lvfxaK3FSR5bFIvM68/C0tb5kzwBZ7vNpcjM+LVdn+X95q6HI8B2bOeS11Sby2tTV7nkNTfDZcoqqb9WGJ+P2PzOz/M6cEOjO6itPXWB25rhscSWcGsxvIbLgkvOurMLkQhydiESQc4uRCLI2YVIBDm7EInQ8914J3uMHsnRVSGmosWDO7JIkExR8h3Lel9k97wazqvWaPDcY+7hPgBQlteprT03RW2j/XyM7SK8G//2+XO0T3+dz/3du3nuupOXp6jt4qVwcM3QRp5XLbaT7JGAoko9UiaJ5CKcvHyeHy+/SG1ZZYzaWhEJaKHJ12prOrzDHwsIL0jOxqKIKCuR4wkhfoeQswuRCHJ2IRJBzi5EIsjZhUgEObsQidBb6c0BJ8pALAcdiwhgMh4AWETKQ6RETm2Qy1pgKdciGkmrxfOSta7zAI7WNA+EGRvg8s/xl44F29sNfs137dtGbZ/48APU9uw/HqW2198MS33XLs/QPlmV59ZrTPPAlaKfS29WhoONqraZ9mnPnaI2z/n9cWExEkETKUeWZbXwuZizAOjrCwf4ZNkUPw+1CCF+p5CzC5EIcnYhEkHOLkQiyNmFSAQ5uxCJsKz0ZmZPAfhjAJfc/X3dtk0AfgBgD4CTAD7j7ryG0NLjkWgdREoylWXYlmeR4UdUkEolLHUAQH9fuFwQAGREestyLvMVs1epbfHqaWobHuC534oaj0S7Mh/O45ZX+Pv6/g9weW3fvi3UdnWK51w7fSEslV25xnO4beGXBWvzfgvXeC5CDISl1P5RnguvbHHZs1jgNsv4HPf18ehHq4VtlcjxRobD6/TSBa4Dr+TO/lcAHn1X2xMAnnX3fQCe7f4thLiDWdbZu/XW3/02/RiAp7uPnwbwqdUdlhBitbnV7+zb3P1G9P8FdCq6CiHuYG7757Lu7mb8t65mdhDAQQDI83VIUy+EAHDrd/aLZjYOAN1/L7Enuvshd59w94kssuEghFhbbtX7ngHwePfx4wB+ujrDEUKsFSuR3r4H4GMANpvZGQBfAfA1AD80sy8AeBvAZ1Z+yvAn/jIS4cPekbKMRztFI9tqg9RWr0QSTpbhkRQLkQSWLS7LNQsuGd277R5qO/XWFLXNz4dlxd97gOtaE+/ltsFBfm0PvGc7tR09GZaojh7liS8b/Vxu3DC4idqKuePUttB4OWywu2mfWOLLSpXLthsGuWxbr3FXm10MR8RlkZJo9Wr4eGa8z7LO7u6fI6ZPLNdXCHHnoC/RQiSCnF2IRJCzC5EIcnYhEkHOLkQi9PYnbQZYRmq9EVkLAIyZIpFtiEgQWZXLa5WMRycxNa9scQkti8g4ffUN1NYoeETZ+XM8wLBeDUc97X94L+2zaYRLRm3wa9u6lUt2Bx6+L9h+5jRPHHl9mmX0BLaOcZmvr8KTWC5Mh5NYzi+coX3yyLoaGAgnsASAWi2y5mIJVVn9w8g4Zufmgu1lpI6h7uxCJIKcXYhEkLMLkQhydiESQc4uRCLI2YVIhJ5KbwaulsVi3WtETiJ5KAEArUitt/4hnkQxlsTSywaz8ONVuZS3Y5RHXl2e4/Mx3eK2vbvCkWP7H9pJ+5REDgWAMrJEsgpPArlrW3iM90fqyr34Mk/AOb/IIxw3DPFjlkU4oqxd8GsmAWUdG1mLANBY4LXq3Plr1izDYxmJRNF5GZYpjerUurMLkQxydiESQc4uRCLI2YVIBDm7EInQ0914B8A2yWO7nFkWtrXaPEijJH0AoH+E56DLwft5SaYrEuNQ799MbWO1UWr7p9dOUFtftZ/aPv7x/cH2jUP8fT0HD54o2/zi3j5xhNquzYWlkn37ttI+J87yAJ+pK+GyVgCwYXiM2rZvC1/b1DTPhddqMdUFWIwEPVlkzeWR+2pOgldqlYgylIVz4cVKUOnOLkQiyNmFSAQ5uxCJIGcXIhHk7EIkgpxdiERYSfmnpwD8MYBL7v6+bttXAfwpgMvdp33Z3X+27LHAA17yiGxRsqAF430QkSAs5xE0Hnn/KxDul1d4srDRYZ6n7c2zi9Q2Gwl2uWsrt73/PeGgkNg1F5Frnl1coLa/f/UotY32h+XB/feN0z5n7uYlnp6/yvPMTU7xaxsfD+f5G+rnMt9CRIrMI0FDtfoQtc0vcjkv97BtocH7NBbDa6do8zx+K7mz/xWARwPt33T3R7r/L+voQoj1ZVlnd/fnAPCUoEKI3wpu5zv7F83sFTN7ysz4Z1UhxB3BrTr7twHsBfAIgPMAvs6eaGYHzeywmR0uiki2CSHEmnJLzu7uF929cPcSwHcAHIg895C7T7j7RJ5r81+I9eKWvM/Mlm6pfhoAj4gQQtwRrER6+x6AjwHYbGZnAHwFwMfM7BF04r1OAvizlZ3OYCTHWxnJ0QUiecWqP9Uq4aggADCSvwsA2uA2eNhW1nkU2nCNX9fVSzzyyiMRT5/4lw9SW15cDrYXBS81lcfyo127Tm0L8/wVGMnD8tXlyzyab9Mon8exMV6y60osIm4+nMetf5BHIy40udzYXODz0WyF890BgEVk4rIIr6uZWS43tkn0XRlJzLiss7v75wLNTy7XTwhxZ6Ev0UIkgpxdiESQswuRCHJ2IRJBzi5EIvS2/JMZ2A9rzHikUavFSt1w6acvlqyPRAx14GWGmNY3uoGXk3r9DR5dNTPDz7V7B5eahjfyklKHX/1lsP2R/Z+gfa7Nc+nq5d+8QG1ZyWWowy++Hmyv/PN/Qft4xuWwu+/msty167zs0tRMeO0MDvL5rVXDJbQA4PLCRWrzgkt2MZpkfTt3CRrd5pGyZ7qzC5EIcnYhEkHOLkQiyNmFSAQ5uxCJIGcXIhF6XOut81/Q5lxGY7XeokXWInkyrMn7VSqRCDBiGqtzKey1azyyrZ1z6e3AQ3fzfrjKz/dWOIPY+K4LtM/pc6eorT5yL7UNTvO5mlsMS29DG7fTPpXqCLVt2sLruV28wuuvvX0iLH0OD/J6f1nGxxFzmfmIhOmRxC1sfUdUNLTbYV1O0psQQs4uRCrI2YVIBDm7EIkgZxciEXq6Gw/w/fMsklAuy8O7lWXJIwXKSBTBwjzfzUakvM/ozn8WbD9zeo72mZ3hO8VjO3m6/Yd//y5qO33i59RmzXCQz4tHw7vjALBrDz/XB3bfR23/d5bPY4UEIvU7VyDuuvc91FY1vlQnr81T29mz4Txuk1M8X9zmUZ6vb6A2Sm3zWSTAKrJWiyJsi63vyEY9RXd2IRJBzi5EIsjZhUgEObsQiSBnFyIR5OxCJMJKyj/tBvDXALahs+N/yN2/ZWabAPwAwB50SkB9xt15wrUbx6Pn4e87OZHerIwEz0QiYWbm+DD7IgESm/NwSal/PH2F9kHGg2Q+8sAu3q/kpX/OnrpEbWdOh8sr9W3YRvtsHeJBJgMj4fJJANAXybm2bdeOYPvVVoP22efcNjzEy3m994HwuQDg+Ilwnrxjx3jwz/AAf81GRsapbbHg45+d5kEyaITnMcu4T1gtnJPPZvi6WcmdvQ3gL9z9QQAfBPDnZvYggCcAPOvu+wA82/1bCHGHsqyzu/t5d3+x+3gGwDEAOwE8BuDp7tOeBvCpNRqjEGIVuKnv7Ga2B8B+AM8D2Obu57umC+h8zBdC3KGs2NnNbAjAjwB8yd3f8QXEOxHzwV/wmdlBMztsZodL8rNAIcTasyJnN7MqOo7+XXf/cbf5opmNd+3jAIK7Ru5+yN0n3H2C/cZdCLH2LOvs1im78iSAY+7+jSWmZwA83n38OICfrv7whBCrxUqi3j4M4PMAXjWzl7ptXwbwNQA/NLMvAHgbwGeWO1Cs/FO1yqOhWJmn2LeCSGUo1Ktcxtm29X5qm18MT9fiPI+66h/jJY32f/B91DY39ya1PfjIo9T2q9eOBtvrETmp2eYy5STJdQYAzUio4gceejjYfmWBy3Vvnv4NtW0d41tCY6M7qe33HgjnvDt3LpyrDwAmr/Moxh1bR6ltdHATtc1OT1EbPDz/AzW+TossvBaNitsrcHZ3/ztweZwXEBNC3FHoF3RCJIKcXYhEkLMLkQhydiESQc4uRCL0NOGkAahUwhv7kQAfWh6njJS6MfCEgrUal6G2beIyznN//3aw3cGP99GJe6hty+ZIGartPAnk5OQUtd01Hpao7trKZaGi4FGAc3M8+eLkDE+w+OGHPxBs77/EIwTnZrhtZnaK2nbt4KWy9u0NJ/V8821ehuqll9/i45jnclhfncuseXaG2loIS33tyPpuLEwF22NJKnVnFyIR5OxCJIKcXYhEkLMLkQhydiESQc4uRCL0ttabGTISrcNjbXgEWx7R60ggEQBgYJAnWJye5hFsC41w3bb6EE9SeeDBfdTWV+PXXEZemloWSb64Jxy1dz+pUwcA2Qg/Xj3n0YjNNpeGhkfCUt97N2ylfaZmuARYr/DXugTPk7B5Yzgx44P3c5nsxMmL1DYViYjbvmWI2rZs4okqzzXDx2xEIg7d2TXHkrAKIZJAzi5EIsjZhUgEObsQiSBnFyIRersbH8EjP/ovi/DWuntkBz/ju8hjY3up7chvwuWCOoSP+fBDPG/d8AYeJLPY4tfsRZvamgv8usfHw7vuI8PhgBAAWHS+6zt9lZcT2jjKA1Dmrodfs7zKz1UxvpvdaHJ55fwlvkNeJWtkpH+Y9hkd4sE/ly/wMk6zs1zVGBnigTejm8JzPD3Fy3y1Wjefll13diESQc4uRCLI2YVIBDm7EIkgZxciEeTsQiTCstKbme0G8NfolGR2AIfc/Vtm9lUAfwrgcvepX3b3n0UP5g5WyTVSrQlOSka1Sy5P7dq6i9qKSd5vZjKSu44EoGxu8uO9euQktZUIB9YAQLvNjznf4oEfRSssUb1xjpeTarZ4SaZmg0s8BbjU9H+eOx5sb7f5NXvE1mpyW8EVTLTL8MoqCz6H589xyasgxwOAqVn+mg0PhgNyAGDT6JZg++z0VdqnUg37BCuVBqxMZ28D+At3f9HMhgG8YGa/6Nq+6e7/eQXHEEKsMyup9XYewPnu4xkzOwaAp2AVQtyR3NR3djPbA2A/gOe7TV80s1fM7Ckz4z/REkKsOyt2djMbAvAjAF9y92kA3wawF8Aj6Nz5v076HTSzw2Z2uB2rsSyEWFNW5OxmVkXH0b/r7j8GAHe/6O6Fu5cAvgPgQKivux9y9wl3n6jkfFNECLG2LOvs1tneexLAMXf/xpL2pXl2Pg3gyOoPTwixWqxkN/7DAD4P4FUze6nb9mUAnzOzR9CR404C+LPlDuTuaLbCEkoWkQxyEvCUR/KS9W/ge4gnz3CJpIzIOAXCA/n1G6d4p+MnIueKRPpFBlJ47D063M8j7+vuvIyTkUg/ID5+ZvKSjyMqvyLyFTDymvHIyMjcR64rJ+XLAKDtXB6cLblMOd43EGw/FUmkWJCot1j06Ep24/8O4dchrqkLIe4o9As6IRJBzi5EIsjZhUgEObsQiSBnFyIReppw0gEa9VZGpLeClBnqi5Qm4uVxgMYiT1A4MMSPmZMxNrxB+2SR99Osws+VRZJpxmpbGZGUItMLGJeF8sgSyfJIqaGMSEAWmY9IOS92XQBg0WOGx5gZl19jkxVNjBqR3mo1vh4vLYbXT7vN1xW75tjrrDu7EIkgZxciEeTsQiSCnF2IRJCzC5EIcnYhEqG3td6cRyEZiSgDAJb0oh0JhJqdPktte3ePUNvO3bxu27XJcB246ckLfCCVSEhWxq+5GpEVWyRyEADazdlge1nwRJqNFpd4qhE5LKIAYmgoXLfNI6/z7MI8tVmkHl2zEYn0ykm/yPFi8XdFJMlps8HncX6GRxaenwwnlrTIEM1IdGNEGtSdXYhEkLMLkQhydiESQc4uRCLI2YVIBDm7EInQW+nNuGRAgpMAgKYajNXdWli8Qm3bt45R20c/9CFqe/noP4TbLz8fbAeAVskltGo99l7LI9E8El3FcnBOz/L5aEQCwLI6H39jgUtN8HBts9m5GdplvnGLtd4iNeKMSL1lyXWtWLLPsuCTFauLUEai9pjMWkSi+WLjZ+jOLkQiyNmFSAQ5uxCJIGcXIhHk7EIkwrK78WbWB+A5APXu8//G3b9iZvcA+D6AMQAvAPi8u/NoC3TCC1hOsNjmIuuTR4I0mi0+lLJap7ap+Wt8IO1wIMxck+e0axaRUkKLPCikv8bH2Ipsny8uhAMuWkUkPxopPwQAGVFPAKBa58vn+uxUsH1ujs9VscjH2IztkEeCU+qV8DzGgomiZa3KSEmmWD9q4VaLJg68eVZyZ28A+AN3fxid8syPmtkHAfwlgG+6+30AJgF8YVVHJoRYVZZ1du9wI26y2v3fAfwBgL/ptj8N4FNrMUAhxOqw0vrsebeC6yUAvwDwJoApd7/x+ekMAF42VQix7qzI2d29cPdHAOwCcADAAys9gZkdNLPDZna4iPzCSAixttzUbry7TwH4JYAPARg1sxs7NLsABFPDuPshd59w94k854nyhRBry7LObmZbzGy0+7gfwB8COIaO0/9J92mPA/jpGo1RCLEKrCQQZhzA02aWo/Pm8EN3/1szOwrg+2b2HwH8PwBPLncgh6MkicssctevkjJJtSrvk0fex8qCSxqnrp6ithMXwrbFSJBGu8VloVhwRDMir5UR2/RMWB5cbHHJqF4P560DgL133UtttSwiARLZyCNSZBkr4xQtNcXXQZtpuhHZti8iRTYbPJccInJv7K7K5LyY9MZk55hYt6yzu/srAPYH2t9C5/u7EOK3AP2CTohEkLMLkQhydiESQc4uRCLI2YVIBIuVi1n1k5ldBvB298/NAHhitN6hcbwTjeOd/LaN42533xIy9NTZ33Fis8PuPrEuJ9c4NI4Ex6GP8UIkgpxdiERYT2c/tI7nXorG8U40jnfyOzOOdfvOLoToLfoYL0QirIuzm9mjZvZPZnbczJ5YjzF0x3HSzF41s5fM7HAPz/uUmV0ysyNL2jaZ2S/M7I3uvxvXaRxfNbOz3Tl5ycw+2YNx7DazX5rZUTN7zcz+Tbe9p3MSGUdP58TM+szsV2b2cncc/6Hbfo+ZPd/1mx+YGa8RFsLde/o/gBydtFb3olPQ7GUAD/Z6HN2xnASweR3O+1EA7wdwZEnbfwLwRPfxEwD+cp3G8VUA/7bH8zEO4P3dx8MAXgfwYK/nJDKOns4JOpGqQ93HVQDPA/gggB8C+Gy3/b8A+Nc3c9z1uLMfAHDc3d/yTurp7wN4bB3GsW64+3MA3p2z+jF0EncCPUrgScbRc9z9vLu/2H08g05ylJ3o8ZxExtFTvMOqJ3ldD2ffCeD0kr/XM1mlA/i5mb1gZgfXaQw32Obu57uPLwDYto5j+aKZvdL9mL/mXyeWYmZ70Mmf8DzWcU7eNQ6gx3OyFkleU9+g+4i7vx/AvwLw52b20fUeENB5Z8dydQXWjm8D2ItOjYDzAL7eqxOb2RCAHwH4krtPL7X1ck4C4+j5nPhtJHllrIeznwWwe8nfNFnlWuPuZ7v/XgLwE6xv5p2LZjYOAN1/L63HINz9YnehlQC+gx7NiZlV0XGw77r7j7vNPZ+T0DjWa066557CTSZ5ZayHs/8awL7uzmINwGcBPNPrQZjZoJkN33gM4I8AHIn3WlOeQSdxJ7COCTxvOFeXT6MHc2KdZGtPAjjm7t9YYurpnLBx9HpO1izJa692GN+12/hJdHY63wTw79ZpDPeiowS8DOC1Xo4DwPfQ+TjYQue71xfQqZn3LIA3APxvAJvWaRz/DcCrAF5Bx9nGezCOj6DzEf0VAC91//9kr+ckMo6ezgmAh9BJ4voKOm8s/37Jmv0VgOMA/geA+s0cV7+gEyIRUt+gEyIZ5OxCJIKcXYhEkLMLkQhydiESQc4uRCLI2YVIBDm7EInw/wFLMhx2I3scOQAAAABJRU5ErkJggg==",
      "text/plain": [
       "<Figure size 432x288 with 1 Axes>"
      ]
     },
     "metadata": {},
     "output_type": "display_data"
    }
   ],
   "source": [
    "plt.imshow(X_train[10, :, :, :])"
   ]
  },
  {
   "cell_type": "code",
   "execution_count": null,
   "metadata": {},
   "outputs": [],
   "source": [
    "X_train, X_test, y_train, y_test = train_test_split(X, y,test_size=0.5, random_state=0)\n",
    "print(X_train.shape, X_test.shape, y_train.shape, y_test.shape) "
   ]
  },
  {
   "cell_type": "markdown",
   "metadata": {},
   "source": [
    "(48713, 32, 32, 3) (48713, 32, 32, 3) (48713, 205) (48713, 205)\n",
    "\n",
    "We have about 48k worth of data images that we need to go through. each a data point is a 32x32 pixel image with 3 layers of rgb data. The Y test data is a one hot encoding matrix that has 1 on the right class while zeros for the others "
   ]
  },
  {
   "cell_type": "markdown",
   "metadata": {},
   "source": [
    "# Proposed Solution\n",
    "\n",
    "In this section, clearly describe a solution to the problem. The solution should be applicable to the project domain and appropriate for the dataset(s) or input(s) given. Provide enough detail (e.g., algorithmic description and/or theoretical properties) to convince us that your solution is applicable. Make sure to describe how the solution will be tested.  \n",
    "\n",
    "If you know details already, describe how (e.g., library used, function calls) you plan to implement the solution in a way that is reproducible.\n",
    "\n",
    "If it is appropriate to the problem statement, describe a benchmark model<a name=\"sota\"></a>[<sup>[3]</sup>](#sotanote) against which your solution will be compared. \n",
    "\n",
    "For our solution we decided to use 4 different algorithms to solve our traffic sign classification problem.\n",
    "\n",
    "2 of the algorithms are unsupervised to see how such methods perform against supervised methods:\n",
    "\n",
    "- Spectral clustering\n",
    "- SVM  \n",
    "\n",
    "2 of the algorithms are supervised methods:\n",
    "\n",
    "- Convolutional Neural Network (ResNet)\n",
    "- Ensemble of CNNs (Voting)  \n",
    "\n",
    "We will train each of these algorithms multiple times, and compare their performance against each other. It is known that old-school unsupervised methods have been largely outperformed by modern supervised techniques, however modern supervised algorithms require much more computational power in order to work. We will see if the forecasted performance increase with supervised algorithms is worth it or not in terms of computational usage."
   ]
  },
  {
   "cell_type": "markdown",
   "metadata": {},
   "source": [
    "# Evaluation Metrics\n",
    "\n",
    "Propose at least one evaluation metric that can be used to quantify the performance of both the benchmark model and the solution model. The evaluation metric(s) you propose should be appropriate given the context of the data, the problem statement, and the intended solution. Describe how the evaluation metric(s) are derived and provide an example of their mathematical representations (if applicable). Complex evaluation metrics should be clearly defined and quantifiable (can be expressed in mathematical or logical terms).\n",
    "\n",
    "The evaluation metric we will use with spectral clustering and SVM algorithms is classification error. This will just be the percentage of correct classifications on the training and/or testing data.\n",
    "\n",
    "Within the CNN models that we will create, we will use cross-entropy with softmax loss, which is a kind of logarithmic loss that uses the softmax function after the last layer of the neural network.\n",
    "\n",
    "TA Issue - Explain why the metric you chose is a good way to measure your project’s success.\n",
    "\n",
    "For road signs, it is essential that the road sign is correctly identified and understood. Each set of models and their respective metrics give a result is an indicater of how well the models are able to categorize some image to a category. Classification error gives an overall percentage on how often the model correctly classifies an image. Cross-entropy loss in multiclassification indicates how close the predicted values are to the true value.\n"
   ]
  },
  {
   "cell_type": "markdown",
   "metadata": {},
   "source": [
    "# Preliminary results\n",
    "\n",
    "NEW SECTION!\n",
    "\n",
    "Please show any preliminary results you have managed to obtain.\n",
    "\n",
    "Examples would include:\n",
    "- Analyzing the suitability of a dataset or alogrithm for prediction/solving your problem \n",
    "- Performing feature selection or hand-designing features from the raw data. Describe the features available/created and/or show the code for selection/creation\n",
    "- Showing the performance of a base model/hyper-parameter setting.  Solve the task with one \"default\" algorithm and characterize the performance level of that base model.\n",
    "- Learning curves or validation curves for a particular model\n",
    "- Tables/graphs showing the performance of different models/hyper-parameters\n",
    "\n"
 
   ]
  },
  {
   "cell_type": "markdown",
   "metadata": {},
   "source": [
    "# Ethics & Privacy"
   ]
  },
  {
   "cell_type": "markdown",
   "metadata": {},
   "source": [
    "Traffic signs are designed communicate traffic laws and regulate the flow vehicles using the roads. This prevents accidents and ensures the safety of many drivers. The dataset of images, itself, doesn't pose any privacy risk, but may fail to train algorithms to correctly identify a sign for every instance. Training data available may not be representative of all environmental conditions signs can appear in. Additionally, the signs on which algorithms are trained on may become outdated resulting in the model failing to identify traffic signs.\n",
    "\n",
    "In application to the real world situations, image classification of traffic signs will most likely be utilized for autonomous vehicles or address some need of understanding traffic. Given the purpose of traffic signs, it has potential put lives in harm's way.\n",
    "\n",
    "In order to address issues of safety and traffic sign changes, the regulating administration of transportation would have to have some tests to ensure the algorithms and vehicles meet an acceptable standard to be publicly used. These checks must occur at set frequencies to ensure everything is up to date. There must be clear communication on changes in signs or traffic laws to companies utilizing traffic sign identification in order for it to be safely used."
   ]
  },
  {
   "cell_type": "markdown",
   "metadata": {},
   "source": [
    "# Team Expectations "
   ]
  },
  {
   "cell_type": "markdown",
   "metadata": {},
   "source": [
    "Put things here that cement how you will interact/communicate as a team, how you will handle conflict and difficulty, how you will handle making decisions and setting goals/schedule, how much work you expect from each other, how you will handle deadlines, etc...\n",
    "* *Communication frequently through Discord*\n",
    "* *Make sure to meet at meeting times*\n",
    "* *Be on top of issues of problems that may arise during project work*"
   ]
  },
  {
   "cell_type": "markdown",
   "metadata": {},
   "source": [
    "# Project Timeline Proposal"
   ]
  },
  {
   "cell_type": "markdown",
   "metadata": {},
   "source": [
    "UPDATE THE PROPOSAL TIMELINE ACCORDING TO WHAT HAS ACTUALLY HAPPENED AND HOW IT HAS EFFECTED YOUR FUTURE PLANS\n",
    "\n",
    "| Meeting Date  | Meeting Time| Completed Before Meeting  | Discuss at Meeting |\n",
    "|---|---|---|---|\n",
    "| 1/20  |  1 PM |  Brainstorm topics/questions (all)  | Determine best form of communication; Discuss and decide on final project topic; discuss hypothesis; begin background research | \n",
    "| 1/26  |  10 AM |  Do background research on topic (Pelé) | Discuss ideal dataset(s) and ethics; draft project proposal | \n",
    "| 2/1  | 10 AM  | Edit, finalize, and submit proposal; Search for datasets (Beckenbaur)  | Discuss Wrangling and possible analytical approaches; Assign group members to lead each specific part   |\n",
    "| 2/14  | 6 PM  | Import & Wrangle Data ,do some EDA (Maradonna) | Review/Edit wrangling/EDA; Discuss Analysis Plan   |\n",
    "| 2/23  | 12 PM  | Finalize wrangling/EDA; Begin programming for project (Cruyff) | Discuss/edit project code; Complete project |\n",
    "| 3/13  | 12 PM  | Complete analysis; Draft results/conclusion/discussion (Carlos)| Discuss/edit full project |\n",
    "| 3/19  | Before 11:59 PM  | NA | Turn in Final Project  |"
   ]
  },
  {
   "cell_type": "markdown",
   "metadata": {},
   "source": [
    "# Footnotes\n",
    "<a name=\"arcosnote\"></a>1.[^](#arcosnote): Evaluation of deep neural networks for traffic sign detection systems. *Neurocomputing 2018*. https://paperswithcode.com/paper/evaluation-of-deep-neural-networks-for<br> \n",
    "<a name=\"kakarlanote\"></a>2.[^](#kakarlanote): Traffic Sign Classification using Residual Networks(ResNet). *Syam Kakarla*. https://towardsdatascience.com/traffic-sign-classification-using-residual-networks-resnet-4b550046ff83<br>\n",
    "<a name=\"pytorchnote\"></a>3.[^](#pytorchnote): How Does PyTorch Support ResNet?. *run.ai*. https://www.run.ai/guides/deep-learning-for-computer-vision/pytorch-resnet#ResNet-Architecture<br>\n"
   ]
  }
 ],
 "metadata": {
  "interpreter": {
   "hash": "8c0a39d5a864316d2550bf2b3bc0c0a4c0f769febd1327833479e85902a7195c"
  },
  "kernelspec": {
   "display_name": "Python 3.9.12 ('GPU_learning')",
   "language": "python",
   "name": "python3"
  },
  "language_info": {
   "codemirror_mode": {
    "name": "ipython",
    "version": 3
   },
   "file_extension": ".py",
   "mimetype": "text/x-python",
   "name": "python",
   "nbconvert_exporter": "python",
   "pygments_lexer": "ipython3",
   "version": "3.9.12"
  }
 },
 "nbformat": 4,
 "nbformat_minor": 2
}
